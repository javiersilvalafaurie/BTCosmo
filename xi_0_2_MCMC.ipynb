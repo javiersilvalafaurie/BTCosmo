{
 "cells": [
  {
   "cell_type": "markdown",
   "metadata": {},
   "source": [
    "# Importing Libraries"
   ]
  },
  {
   "cell_type": "code",
   "execution_count": 1,
   "metadata": {
    "ExecuteTime": {
     "end_time": "2020-04-22T04:35:53.426642Z",
     "start_time": "2020-04-22T04:35:52.574407Z"
    }
   },
   "outputs": [],
   "source": [
    "import numpy as np\n",
    "import scipy as sp\n",
    "from scipy.integrate import simps\n",
    "import matplotlib.pyplot as plt\n",
    "import os\n",
    "import emcee\n",
    "import multiprocessing as mp\n",
    "from multiprocessing import cpu_count, Pool\n",
    "cores = mp.cpu_count()\n",
    "\n",
    "# Parameters using fiducial LCDM: Planck 2015\n",
    "H0_fid = 67.48                        # Hubble parameter \n",
    "h_fid = H0_fid/100                    # h \n",
    "sigma8_z = 0.6286069226243259         # Normalization Pk at z_effective\n",
    "gr_z = 0.7769123846609305             # Log growth rate at z_effecitve"
   ]
  },
  {
   "cell_type": "markdown",
   "metadata": {},
   "source": [
    "# Data and Files"
   ]
  },
  {
   "cell_type": "code",
   "execution_count": 16,
   "metadata": {
    "ExecuteTime": {
     "end_time": "2020-04-22T04:37:07.160414Z",
     "start_time": "2020-04-22T04:37:06.838907Z"
    }
   },
   "outputs": [],
   "source": [
    "# Data parameters\n",
    "tapering = 500 \n",
    "resampling = 200\n",
    "iters_MCMC = 10\n",
    "n_runs = 100\n",
    "NBURN = 500\n",
    "\n",
    "# Power spectrum from xi_0_2_power_spectrum_creator.ipynb\n",
    "Pks = np.loadtxt('Matter_Power_Spectrum_z_056_Planck2015.txt')\n",
    "k_class      = Pks[0]\n",
    "pk_class     = Pks[1]\n",
    "pk_hat_class = Pks[2]\n",
    "\n",
    "# DATA\n",
    "DATA_mono = np.loadtxt('DATA/monopole.txt').T\n",
    "DATA_cuad = np.loadtxt('DATA/quadrupole.txt').T\n",
    "COVA_mono = np.loadtxt('DATA/cov_matrix_monopole.txt')\n",
    "COVA_cuad = np.loadtxt('DATA/cov_matrix_quadrupole.txt')\n",
    "COVA_cros = np.loadtxt('DATA/cov_matrix_x2x0.txt')\n",
    "\n",
    "# Total covariance matrix\n",
    "COV_total = np.block([[COVA_mono, COVA_cros],[COVA_cros.T,COVA_cuad]])"
   ]
  },
  {
   "cell_type": "markdown",
   "metadata": {},
   "source": [
    "# Useful Functions"
   ]
  },
  {
   "cell_type": "markdown",
   "metadata": {},
   "source": [
    "## Correlation function $\\xi(r)$\n",
    "\n",
    "- 2D Power Spectrum: $P(k,\\mu) = FG(k,\\mu)\\left\\{1+2f\\mu^2+f^2\\mu^4\\right\\}P(k)$\n",
    "\n",
    "\n",
    "- $P(k)$ from CLASS and $FG(k,\\mu)=1$\n",
    "\n",
    "\n",
    "- $P_k$ Multipoles: $P_l^s=\\frac{2l+1}{2}\\int^1_{-1}d\\mu P(k,\\mu)L_l(\\mu)$\n",
    "\n",
    "\n",
    "- $\\xi$ Multipoles: $\\xi_l(s)=i^l\\int_0^{\\infty}\\frac{dk}{2\\pi^2}k^2P^s_l(k)j_l(ks)$\n",
    "\n",
    "\n",
    "- Monopole: $\\xi_0(s)=\\frac{1}{4\\pi^2}\\left(2+\\frac{4}{3}f+\\frac{2}{5}f^2\\right)\\int_0^{\\infty}dkk^2j_0(ks)P(k)$\n",
    "\n",
    "\n",
    "- Quadrupole: $\\xi_2(s)=\\frac{-5}{4\\pi^2}\\left(\\frac{12}{5}f-\\frac{4}{3}f+\\frac{6}{7}f^2-\\frac{2}{5}f^2\\right)\\int_0^{\\infty}dkk^2j_2(ks)P(k)$\n",
    "\n",
    "\n",
    "- Model $P_k$: $P(k) = \\left(P_{CLASS}(k)-P_{dw}(k)\\right)e^{-\\frac{1}{2}(\\Sigma_{NL}k)^2}+P_{dw}(k)$"
   ]
  },
  {
   "cell_type": "code",
   "execution_count": 17,
   "metadata": {
    "ExecuteTime": {
     "end_time": "2020-04-22T04:37:07.453887Z",
     "start_time": "2020-04-22T04:37:07.432880Z"
    }
   },
   "outputs": [],
   "source": [
    "inte_mu_0 = 2 + 4*gr_z/3 + 2*gr_z**2/5\n",
    "inte_mu_2 = 0.5*(12*gr_z/5 - 4*gr_z/3 + 6*gr_z**2/7 - 2*gr_z**2/5)\n",
    "\n",
    "def model_pk_nl(sigma,k = k_class, pk = pk_class,pk_hat = pk_hat_class):\n",
    "    return (pk-pk_hat)*np.exp(-(k**2 * sigma**2)/2) + pk_hat\n",
    "\n",
    "def inter_xi_0(r, k = k_class, pk = pk_class):\n",
    "    interg = k**3 * pk * np.sin(k*r)/(k*r)\n",
    "    return 1/(4*np.pi**2) * simps(interg,np.log(k*r))\n",
    "\n",
    "def inter_xi_2(r, k = k_class, pk = pk_class):\n",
    "    j2 = (3/((k*r)**2) - 1)*np.sin(k*r)/(k*r) - 3*np.cos(k*r)/((k*r)**2)\n",
    "    interg = k**3 * pk * j2\n",
    "    return -5/(4*np.pi**2) * simps(interg,np.log(k*r))\n",
    "\n",
    "def xi_0(r, sigma,k = k_class, pk = pk_class,pk_hat = pk_hat_class): \n",
    "    \"\"\"\n",
    "    Computes the monopole function\n",
    "    r given in Mpc/h \n",
    "    \"\"\"\n",
    "    pk_m = model_pk_nl(sigma, k = k, pk = pk, pk_hat = pk_hat)\n",
    "    xi = np.array([inter_xi_0(_r/h_fid,k = k, pk = pk_m) for _r in r])\n",
    "    return inte_mu_0 * xi/(sigma8_z**2)\n",
    "\n",
    "def xi_2(r, sigma,k = k_class, pk = pk_class,pk_hat = pk_hat_class):\n",
    "    \"\"\"\n",
    "    Computes de quadrupole function\n",
    "    r given in Mpc/h \n",
    "    \"\"\"\n",
    "    pk_m = model_pk_nl(sigma, k = k, pk = pk, pk_hat = pk_hat)\n",
    "    xi = np.array([inter_xi_2(_r/h_fid,k = k, pk = pk_m) for _r in r])\n",
    "    return inte_mu_2 * xi/(sigma8_z**2)\n",
    "\n"
   ]
  },
  {
   "cell_type": "markdown",
   "metadata": {},
   "source": [
    "## Tapering Function\n",
    "\n",
    "- Method in Paz D. J., Sánchez A. G., 2015, MNRAS, 454, 4, 4326\n",
    "\n",
    "\n",
    "- Tapering Matrix: $T_{ij} = K\\left(|x_i-x_j|\\right)$\n",
    "\n",
    "\n",
    "- Kernel Function: $K(x<t_p) = \\left(1-\\frac{x}{t_p}\\right)^4\\left(4\\frac{x}{t_p}+1\\right)$,   $K(x>t_p)=0$"
   ]
  },
  {
   "cell_type": "code",
   "execution_count": 18,
   "metadata": {
    "ExecuteTime": {
     "end_time": "2020-04-22T04:37:07.797765Z",
     "start_time": "2020-04-22T04:37:07.790513Z"
    }
   },
   "outputs": [],
   "source": [
    "def tapper_function(x,Tp):\n",
    "    if x<Tp: return (1-x/Tp)**4 *(4*x/Tp +1)\n",
    "    else: return 0\n",
    "\n",
    "def tapper_matrix(data_ind, Tp):\n",
    "    n = len(data_ind)\n",
    "    TAPPER_MATRIX = np.zeros([n,n])\n",
    "    for i in range(0,n):\n",
    "        for j in range(0,n):\n",
    "            dist = abs(data_ind[j]-data_ind[i])\n",
    "            TAPPER_MATRIX[i,j] = tapper_function(dist,Tp)\n",
    "    return TAPPER_MATRIX"
   ]
  },
  {
   "cell_type": "markdown",
   "metadata": {},
   "source": [
    "# Presicion Matrix: $\\hat{\\Psi}$\n",
    "\n",
    "- $\\hat{C}$: Covariance Matrix\n",
    "\n",
    "\n",
    "- $T$: Tapering Matrix\n",
    "\n",
    "\n",
    "- $\\hat{\\Psi} = \\left(1-\\frac{n_{\\rm{b}}+1}{N_{\\rm{res}}-1}\\right)\\left(\\hat{C}\\circ T\\right)^{-1}\\circ T$"
   ]
  },
  {
   "cell_type": "code",
   "execution_count": 19,
   "metadata": {
    "ExecuteTime": {
     "end_time": "2020-04-22T04:37:08.468903Z",
     "start_time": "2020-04-22T04:37:08.144227Z"
    }
   },
   "outputs": [
    {
     "data": {
      "text/plain": [
       "Text(0.5, 1.0, 'Tapering Matrix')"
      ]
     },
     "execution_count": 19,
     "metadata": {},
     "output_type": "execute_result"
    },
    {
     "data": {
      "image/png": "[encoded data removed]",
      "text/plain": [
       "<Figure size 576x576 with 2 Axes>"
      ]
     },
     "metadata": {
      "needs_background": "light"
     },
     "output_type": "display_data"
    }
   ],
   "source": [
    "hartlap_factor = 1-(len(DATA_mono[0])+1)/(resampling-1)\n",
    "\n",
    "DATA_pos = np.concatenate((DATA_mono[0],DATA_cuad[0]))\n",
    "DATA_xis = np.concatenate((DATA_mono[1],DATA_cuad[1]))\n",
    "\n",
    "tap_m = tapper_matrix(DATA_pos,tapering)\n",
    "pres_ = np.linalg.inv(COV_total*tap_m)*tap_m*hartlap_factor\n",
    "\n",
    "plt.figure(figsize=[8,8])\n",
    "plt.imshow(tap_m)\n",
    "plt.colorbar()\n",
    "plt.title(r'Tapering Matrix',size=20)"
   ]
  },
  {
   "cell_type": "markdown",
   "metadata": {},
   "source": [
    "# MCMC Algorithm"
   ]
  },
  {
   "cell_type": "markdown",
   "metadata": {},
   "source": [
    "## Priors \n",
    "\n",
    "- Flat priors for all parameters"
   ]
  },
  {
   "cell_type": "code",
   "execution_count": 20,
   "metadata": {
    "ExecuteTime": {
     "end_time": "2020-04-22T04:37:09.724408Z",
     "start_time": "2020-04-22T04:37:09.716055Z"
    }
   },
   "outputs": [],
   "source": [
    "p1i, p1f = [     0.0,  10.0] # Bs\n",
    "p2i, p2f = [     0.7,   1.3] # alpha\n",
    "p3i, p3f = [   -10.0,  10.0] # a0s\n",
    "p4i, p4f = [  -500.0, 500.0] # a1s\n",
    "p5i, p5f = [ -1000.0,1000.0] # a2s\n",
    "p6i, p6f = [     0.0,  30.0] # sigma_nl"
   ]
  },
  {
   "cell_type": "markdown",
   "metadata": {},
   "source": [
    "## Posteriori, Likelihood and Prior functions\n",
    "\n",
    "- $\\chi^2 = \\left(\\vec{\\xi}-\\vec{d}\\right)^T\\hat{\\Psi}\\left(\\vec{\\xi}-\\vec{d}\\right)$\n",
    "\n",
    "\n",
    "- model: $\\xi_i= B_i\\xi_{th}^{(i)}(\\alpha r,\\Sigma_{NL})+a^{(i)}_0+\\frac{a^{(i)}_1}{r}+\\frac{a^{(i)}_2}{r^2}$\n",
    "\n",
    "\n",
    "- $\\ln \\mathcal{L}(data|\\theta)\\propto-\\frac{1}{2}\\chi^2$\n",
    "\n",
    "\n",
    "- $\\ln P(\\theta|data) = \\ln \\mathcal{L}(data|\\theta) + \\ln p(\\theta)$"
   ]
  },
  {
   "cell_type": "code",
   "execution_count": 21,
   "metadata": {
    "ExecuteTime": {
     "end_time": "2020-04-22T04:37:10.885754Z",
     "start_time": "2020-04-22T04:37:10.869939Z"
    }
   },
   "outputs": [],
   "source": [
    "def lnlike_s(theta):\n",
    "    x, y, pres = DATA_mono[0], DATA_xis, pres_\n",
    "    B1, B2, alpha, a0, a1, a2, a02, a12, a22, sigma = theta\n",
    "    \n",
    "    model0 = B1 * xi_0(alpha*x,sigma) + a0 + (a1/x) + (a2/(x**2))\n",
    "    model2 = B2 * xi_2(alpha*x,sigma) + a02 + (a12/x) + (a22/(x**2))\n",
    "    model  = np.concatenate((model0,model2))\n",
    "    chi2   = -0.5*np.dot((model-y).T,np.dot(pres,(model-y)))\n",
    "    \n",
    "    return chi2\n",
    "\n",
    "def lnprior_s(theta):\n",
    "    B1, B2, alpha, a0, a1, a2, a02, a12, a22, sigma = theta\n",
    "    cond1 = p1i < B1 < p1f and p1i < B2 < p1f\n",
    "    cond2 = p3i < a0  < p3f and p4i < a1  < p4f and p5i < a2  < p5f\n",
    "    cond3 = p3i < a02 < p3f and p4i < a12 < p4f and p5i < a22 < p5f\n",
    "    cond4 = p2i < alpha < p2f and p6i < sigma < p6f\n",
    "    if cond1 and cond2 and cond3 and cond4:\n",
    "        return 0\n",
    "    return -np.inf\n",
    "\n",
    "def lnprob_s(theta):\n",
    "    lp = lnprior_s(theta)\n",
    "    if not np.isfinite(lp):\n",
    "        return -np.inf\n",
    "    return lp + lnlike_s(theta)"
   ]
  },
  {
   "cell_type": "markdown",
   "metadata": {},
   "source": [
    "## MCMC Chains"
   ]
  },
  {
   "cell_type": "code",
   "execution_count": 22,
   "metadata": {
    "ExecuteTime": {
     "end_time": "2020-04-22T04:41:56.991289Z",
     "start_time": "2020-04-22T04:37:11.957735Z"
    }
   },
   "outputs": [
    {
     "name": "stderr",
     "output_type": "stream",
     "text": [
      "100%|██████████| 10/10 [04:15<00:00, 25.59s/it]\n"
     ]
    }
   ],
   "source": [
    "start_point = [2.19, 1.0, 0.98, -0.001, 0.5, -33, -0.001, 0.5, -33, 15.4]\n",
    "\n",
    "ndim, nwalkers = len(start_point), n_runs\n",
    "seed = np.random.seed(51294)\n",
    "pos = start_point + 1e-3*np.random.randn(nwalkers, ndim)\n",
    "\n",
    "\n",
    "with Pool(cores) as pool:\n",
    "    sampler = emcee.EnsembleSampler(nwalkers, ndim, lnprob_s,pool=pool)\n",
    "    sampler.run_mcmc(pos, iters_MCMC, progress=True, rstate0=seed)"
   ]
  },
  {
   "cell_type": "markdown",
   "metadata": {},
   "source": [
    "## Save the chains\n",
    "\n",
    "- Save the parameters and the $\\chi^2$"
   ]
  },
  {
   "cell_type": "code",
   "execution_count": 23,
   "metadata": {
    "ExecuteTime": {
     "end_time": "2020-04-22T04:41:59.467395Z",
     "start_time": "2020-04-22T04:41:59.060739Z"
    }
   },
   "outputs": [],
   "source": [
    "run_iters = iters_MCMC    \n",
    "CHAIN_total = np.zeros([n_runs,iters_MCMC,ndim+1])\n",
    "min_value = 10000\n",
    "ind_i, ind_j = [0,0]\n",
    "for i in range(0,nwalkers):\n",
    "    for j in range(0,run_iters):\n",
    "        for k in range(0,ndim+1):\n",
    "            if k==ndim:\n",
    "                chi2_s = sampler.get_log_prob()[j,i]/-0.5\n",
    "                CHAIN_total[i,j,k] = chi2_s\n",
    "                if chi2_s <min_value:\n",
    "                    min_value = chi2_s\n",
    "                    ind_i, ind_j = [i,j]\n",
    "            else: CHAIN_total[i,j,k] = sampler.chain[i,j,k]\n",
    "                \n",
    "chi2_min_mcmc = min_value\n",
    "all_samples = CHAIN_total.reshape((-1, ndim+1))\n",
    "\n",
    "id_1 = str(iters_MCMC)+'x'+str(n_runs)\n",
    "id_2 = '_tp_'+str(tapering)+'_res_'+str(resampling)\n",
    "id_chain = id_1+id_2\n",
    "my_chain = 'xi_0_2_mcmc_chain_'+id_chain+'.txt'\n",
    "\n",
    "if not os.path.exists(my_chain):\n",
    "    np.savetxt(my_chain,all_samples)\n",
    "else:\n",
    "    num = 1\n",
    "    while os.path.exists(my_chain):\n",
    "        my_chain = 'xi_0_2_mcmc_chain_'+id_chain+'_'+str(num)+'.txt'\n",
    "        num += 1\n",
    "    np.savetxt(my_chain,all_samples)"
   ]
  }
 ],
 "metadata": {
  "kernelspec": {
   "display_name": "Python 3",
   "language": "python",
   "name": "python3"
  },
  "language_info": {
   "codemirror_mode": {
    "name": "ipython",
    "version": 3
   },
   "file_extension": ".py",
   "mimetype": "text/x-python",
   "name": "python",
   "nbconvert_exporter": "python",
   "pygments_lexer": "ipython3",
   "version": "3.7.6"
  },
  "toc": {
   "base_numbering": 1,
   "nav_menu": {},
   "number_sections": true,
   "sideBar": true,
   "skip_h1_title": false,
   "title_cell": "Table of Contents",
   "title_sidebar": "Contents",
   "toc_cell": false,
   "toc_position": {},
   "toc_section_display": true,
   "toc_window_display": false
  }
 },
 "nbformat": 4,
 "nbformat_minor": 4
}
